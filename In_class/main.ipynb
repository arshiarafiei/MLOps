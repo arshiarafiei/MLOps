{
 "cells": [
  {
   "cell_type": "code",
   "execution_count": 1,
   "id": "125547e8",
   "metadata": {},
   "outputs": [],
   "source": [
    "import logging\n",
    "import sys\n",
    "import warnings\n",
    "from urllib.parse import urlparse\n",
    "\n",
    "import numpy as np\n",
    "import pandas as pd\n",
    "from sklearn.linear_model import ElasticNet\n",
    "from sklearn.metrics import mean_absolute_error, mean_squared_error, r2_score\n",
    "from sklearn.model_selection import train_test_split\n",
    "import mlflow\n",
    "import mlflow.sklearn\n",
    "from mlflow.models import infer_signature\n",
    "from sklearn.linear_model import LinearRegression"
   ]
  },
  {
   "cell_type": "code",
   "execution_count": 2,
   "id": "4d120052",
   "metadata": {},
   "outputs": [
    {
     "name": "stderr",
     "output_type": "stream",
     "text": [
      "2025/09/28 18:16:58 INFO mlflow.tracking.fluent: Experiment with name 'In_Class_project' does not exist. Creating a new experiment.\n"
     ]
    },
    {
     "data": {
      "text/plain": [
       "<Experiment: artifact_location='mlflow-artifacts:/718033827369550917', creation_time=1759097818322, experiment_id='718033827369550917', last_update_time=1759097818322, lifecycle_stage='active', name='In_Class_project', tags={}>"
      ]
     },
     "execution_count": 2,
     "metadata": {},
     "output_type": "execute_result"
    }
   ],
   "source": [
    "# Set our tracking server uri for logging\n",
    "mlflow.set_tracking_uri(uri=\"http://127.0.0.1:8080\")\n",
    "\n",
    "# Create a new MLflow Experiment\n",
    "mlflow.set_experiment(\"In_Class_project\")"
   ]
  },
  {
   "cell_type": "code",
   "execution_count": 3,
   "id": "f42cc8ca",
   "metadata": {},
   "outputs": [],
   "source": [
    "def eval_metrics(actual, pred):\n",
    "    rmse = np.sqrt(mean_squared_error(actual, pred))\n",
    "    mae = mean_absolute_error(actual, pred)\n",
    "    r2 = r2_score(actual, pred)\n",
    "    return rmse, mae, r2"
   ]
  },
  {
   "cell_type": "code",
   "execution_count": 4,
   "id": "854da2ae",
   "metadata": {},
   "outputs": [
    {
     "name": "stdout",
     "output_type": "stream",
     "text": [
      "  RMSE: 1.1208558395741235\n",
      "  MAE: 0.9623986763674518\n",
      "  R2: 0.014586275866856568\n"
     ]
    }
   ],
   "source": [
    "import pandas as pd\n",
    "\n",
    "data = pd.read_csv('reg2.csv') \n",
    "\n",
    "\n",
    "train, test = train_test_split(data)\n",
    "\n",
    "\n",
    "\n",
    "X = train[['x1']]\n",
    "y = train['y']\n",
    "\n",
    "\n",
    "model_1 = LinearRegression()\n",
    "\n",
    "\n",
    "model_1.fit(X, y)\n",
    "\n",
    "\n",
    "predictions_1 = model_1.predict(X)\n",
    "\n",
    "\n",
    "(rmse, mae, r2) = eval_metrics(y, predictions_1)\n",
    "\n",
    "\n",
    "print(f\"  RMSE: {rmse}\")\n",
    "print(f\"  MAE: {mae}\")\n",
    "print(f\"  R2: {r2}\")"
   ]
  },
  {
   "cell_type": "code",
   "execution_count": null,
   "id": "3cf6e4b4",
   "metadata": {},
   "outputs": [
    {
     "name": "stdout",
     "output_type": "stream",
     "text": [
      "  RMSE: 1.167594603000847\n",
      "  MAE: 1.0013974691910108\n",
      "  R2: 0.008415483884289587\n"
     ]
    },
    {
     "name": "stderr",
     "output_type": "stream",
     "text": [
      "2025/09/28 18:16:58 WARNING mlflow.models.model: `artifact_path` is deprecated. Please use `name` instead.\n",
      "\u001b[31m2025/09/28 18:17:00 WARNING mlflow.models.model: Model logged without a signature and input example. Please set `input_example` parameter when logging the model to auto infer the model signature.\u001b[0m\n",
      "Registered model 'LR_model_1' already exists. Creating a new version of this model...\n",
      "2025/09/28 18:17:02 INFO mlflow.store.model_registry.abstract_store: Waiting up to 300 seconds for model version to finish creation. Model name: LR_model_1, version 2\n"
     ]
    },
    {
     "name": "stdout",
     "output_type": "stream",
     "text": [
      "🏃 View run tasteful-seal-630 at: http://127.0.0.1:8080/#/experiments/718033827369550917/runs/581147b94503409db7e94be744e6d4da\n",
      "🧪 View experiment at: http://127.0.0.1:8080/#/experiments/718033827369550917\n"
     ]
    },
    {
     "name": "stderr",
     "output_type": "stream",
     "text": [
      "Created version '2' of model 'LR_model_1'.\n"
     ]
    }
   ],
   "source": [
    "with mlflow.start_run():\n",
    "\n",
    "    data = pd.read_csv('reg2.csv') \n",
    "\n",
    "\n",
    "    train, test = train_test_split(data)\n",
    "        \n",
    "    X = train[['x1']]\n",
    "    y = train['y']\n",
    "\n",
    "    \n",
    "\n",
    "\n",
    "    model_1 = LinearRegression()\n",
    "\n",
    "\n",
    "    model_1.fit(X, y)\n",
    "\n",
    "\n",
    "    predictions_train = model_1.predict(X)\n",
    "\n",
    "\n",
    "    (rmse, mae, r2) = eval_metrics(y, predictions_train)\n",
    "\n",
    "\n",
    "    print(f\"  RMSE: {rmse}\")\n",
    "    print(f\"  MAE: {mae}\")\n",
    "    print(f\"  R2: {r2}\")\n",
    "\n",
    "    mlflow.log_metric(\"rmse\", rmse)\n",
    "    mlflow.log_metric(\"r2\", r2)\n",
    "    mlflow.log_metric(\"mae\", mae)\n",
    "\n",
    "    signature = infer_signature(X, predictions_train)\n",
    "\n",
    "    mlflow.log_param(\"fit_intercept_model_1\", model_1.fit_intercept)\n",
    "\n",
    "    mlflow.sklearn.log_model(model_1, \"model_1\", signature=signature)\n",
    "\n",
    "    mlflow.sklearn.log_model(\n",
    "        sk_model=model_1,\n",
    "        name=\"model_1\",\n",
    "        input_example=X,\n",
    "        registered_model_name=\"LR_model_1\",\n",
    "    )\n",
    "\n"
   ]
  },
  {
   "cell_type": "code",
   "execution_count": 6,
   "id": "8ccf63a8",
   "metadata": {},
   "outputs": [
    {
     "name": "stderr",
     "output_type": "stream",
     "text": [
      "2025/09/28 18:17:02 WARNING mlflow.models.model: `artifact_path` is deprecated. Please use `name` instead.\n"
     ]
    },
    {
     "name": "stdout",
     "output_type": "stream",
     "text": [
      "  RMSE: 1.0776898029020028\n",
      "  MAE: 0.9294660886924798\n",
      "  R2: 0.10433626008607133\n"
     ]
    },
    {
     "name": "stderr",
     "output_type": "stream",
     "text": [
      "\u001b[31m2025/09/28 18:17:04 WARNING mlflow.models.model: Model logged without a signature and input example. Please set `input_example` parameter when logging the model to auto infer the model signature.\u001b[0m\n",
      "Successfully registered model 'LR_model_2'.\n",
      "2025/09/28 18:17:05 INFO mlflow.store.model_registry.abstract_store: Waiting up to 300 seconds for model version to finish creation. Model name: LR_model_2, version 1\n"
     ]
    },
    {
     "name": "stdout",
     "output_type": "stream",
     "text": [
      "🏃 View run righteous-asp-435 at: http://127.0.0.1:8080/#/experiments/718033827369550917/runs/ccc28f3c61e04147ab8bf9ff214e2fe8\n",
      "🧪 View experiment at: http://127.0.0.1:8080/#/experiments/718033827369550917\n"
     ]
    },
    {
     "name": "stderr",
     "output_type": "stream",
     "text": [
      "Created version '1' of model 'LR_model_2'.\n"
     ]
    }
   ],
   "source": [
    "with mlflow.start_run():\n",
    "\n",
    "    data = pd.read_csv('reg2.csv') \n",
    "\n",
    "\n",
    "    train, test = train_test_split(data)\n",
    "        \n",
    "    X = train[['x2']]\n",
    "    y = train['y']\n",
    "\n",
    "    \n",
    "\n",
    "\n",
    "    model_2 = LinearRegression()\n",
    "\n",
    "\n",
    "    model_2.fit(X, y)\n",
    "\n",
    "\n",
    "    predictions_train = model_2.predict(X)\n",
    "\n",
    "\n",
    "    (rmse, mae, r2) = eval_metrics(y, predictions_train)\n",
    "\n",
    "\n",
    "    print(f\"  RMSE: {rmse}\")\n",
    "    print(f\"  MAE: {mae}\")\n",
    "    print(f\"  R2: {r2}\")\n",
    "\n",
    "    mlflow.log_metric(\"rmse\", rmse)\n",
    "    mlflow.log_metric(\"r2\", r2)\n",
    "    mlflow.log_metric(\"mae\", mae)\n",
    "\n",
    "    mlflow.log_param(\"fit_intercept_model_2\", model_2.fit_intercept)\n",
    "\n",
    "    mlflow.sklearn.log_model(model_2, \"model_2\")\n",
    "\n",
    "    mlflow.sklearn.log_model(\n",
    "        sk_model=model_2,\n",
    "        name=\"model_2\",\n",
    "        input_example=X,\n",
    "        registered_model_name=\"LR_model_2\",\n",
    "    )\n",
    "\n"
   ]
  },
  {
   "cell_type": "code",
   "execution_count": 7,
   "id": "88ea8c18",
   "metadata": {},
   "outputs": [
    {
     "name": "stderr",
     "output_type": "stream",
     "text": [
      "2025/09/28 18:17:05 WARNING mlflow.models.model: `artifact_path` is deprecated. Please use `name` instead.\n"
     ]
    },
    {
     "name": "stdout",
     "output_type": "stream",
     "text": [
      "  RMSE: 0.26897684754609186\n",
      "  MAE: 0.20605760320438943\n",
      "  R2: 0.9455240978002114\n"
     ]
    },
    {
     "name": "stderr",
     "output_type": "stream",
     "text": [
      "\u001b[31m2025/09/28 18:17:07 WARNING mlflow.models.model: Model logged without a signature and input example. Please set `input_example` parameter when logging the model to auto infer the model signature.\u001b[0m\n",
      "Successfully registered model 'LR_model_3'.\n",
      "2025/09/28 18:17:08 INFO mlflow.store.model_registry.abstract_store: Waiting up to 300 seconds for model version to finish creation. Model name: LR_model_3, version 1\n"
     ]
    },
    {
     "name": "stdout",
     "output_type": "stream",
     "text": [
      "🏃 View run intrigued-kit-355 at: http://127.0.0.1:8080/#/experiments/718033827369550917/runs/a0a56005efbf4657873c764c07f074b0\n",
      "🧪 View experiment at: http://127.0.0.1:8080/#/experiments/718033827369550917\n"
     ]
    },
    {
     "name": "stderr",
     "output_type": "stream",
     "text": [
      "Created version '1' of model 'LR_model_3'.\n"
     ]
    }
   ],
   "source": [
    "with mlflow.start_run():\n",
    "\n",
    "    data = pd.read_csv('reg2.csv') \n",
    "\n",
    "\n",
    "    train, test = train_test_split(data)\n",
    "        \n",
    "    X = train[['x1','x2']]\n",
    "    y = train['y']\n",
    "\n",
    "    \n",
    "\n",
    "\n",
    "    model_3 = LinearRegression()\n",
    "\n",
    "\n",
    "    model_3.fit(X, y)\n",
    "\n",
    "\n",
    "    predictions_train = model_3.predict(X)\n",
    "\n",
    "\n",
    "    (rmse, mae, r2) = eval_metrics(y, predictions_train)\n",
    "\n",
    "\n",
    "    print(f\"  RMSE: {rmse}\")\n",
    "    print(f\"  MAE: {mae}\")\n",
    "    print(f\"  R2: {r2}\")\n",
    "\n",
    "    mlflow.log_metric(\"rmse\", rmse)\n",
    "    mlflow.log_metric(\"r2\", r2)\n",
    "    mlflow.log_metric(\"mae\", mae)\n",
    "\n",
    "    mlflow.log_param(\"fit_intercept_model_3\", model_3.fit_intercept)\n",
    "\n",
    "    mlflow.sklearn.log_model(model_3, \"model_3\")\n",
    "\n",
    "    mlflow.sklearn.log_model(\n",
    "        sk_model=model_3,\n",
    "        name=\"model_3\",\n",
    "        input_example=X,\n",
    "        registered_model_name=\"LR_model_3\",\n",
    "    )\n",
    "\n"
   ]
  }
 ],
 "metadata": {
  "kernelspec": {
   "display_name": "Python 3",
   "language": "python",
   "name": "python3"
  },
  "language_info": {
   "codemirror_mode": {
    "name": "ipython",
    "version": 3
   },
   "file_extension": ".py",
   "mimetype": "text/x-python",
   "name": "python",
   "nbconvert_exporter": "python",
   "pygments_lexer": "ipython3",
   "version": "3.12.4"
  }
 },
 "nbformat": 4,
 "nbformat_minor": 5
}
