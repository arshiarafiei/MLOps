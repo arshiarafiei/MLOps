{
 "cells": [
  {
   "cell_type": "code",
   "execution_count": 5,
   "id": "648954aa",
   "metadata": {},
   "outputs": [],
   "source": [
    "import pandas as pd\n",
    "\n",
    "\n",
    "df = pd.read_csv(\"reg1.csv\") \n",
    "\n",
    "\n",
    "y = df[[\"cust_sentiment\"]]\n",
    "X = df.drop(columns=[\"cust_sentiment\"])\n",
    "\n",
    "X.to_csv(\"X.csv\", index=False)\n",
    "y.to_csv(\"y.csv\", index=False)\n",
    "\n"
   ]
  },
  {
   "cell_type": "code",
   "execution_count": 6,
   "id": "9e67f621",
   "metadata": {},
   "outputs": [
    {
     "name": "stdout",
     "output_type": "stream",
     "text": [
      "Regression Results \n",
      "------------------\n",
      "Target variable: cust_sentiment\n",
      "Intercept: 4.215224698979327\n",
      "\n",
      "Coefficients:\n",
      " ads: 0.6426771556656339\n",
      " satis: 0.9736993496682765\n",
      " contact: 0.3947407581466274\n",
      " econ1: 1.72657099560486\n",
      " econ2: 0.030932025372042517\n",
      "\n",
      "MSE: 405.2473631266936\n",
      "R Square: 0.16185302291575954\n"
     ]
    }
   ],
   "source": [
    "import pandas as pd\n",
    "from sklearn.linear_model import LinearRegression\n",
    "from sklearn.metrics import mean_squared_error, r2_score\n",
    "\n",
    "\n",
    "\n",
    "def generic_LR(file_x, file_y):\n",
    "    X = pd.read_csv(file_x)\n",
    "    y = pd.read_csv(file_y)\n",
    "\n",
    "\n",
    "    y_label = y.columns[0]\n",
    "    y = y[y_label]\n",
    "\n",
    "\n",
    "    model = LinearRegression()\n",
    "    model.fit(X, y)\n",
    "\n",
    "\n",
    "    y_pred = model.predict(X)\n",
    "\n",
    "\n",
    "    mse = mean_squared_error(y, y_pred)\n",
    "    r2 = r2_score(y, y_pred)\n",
    "\n",
    "\n",
    "    print(\"Regression Results \\n------------------\")\n",
    "    print(f\"Target variable: {y_label}\")\n",
    "    print(f\"Intercept: {model.intercept_}\")\n",
    "    print(\"\\nCoefficients:\")\n",
    "    for feature, coef in zip(X.columns, model.coef_):\n",
    "        print(f\" {feature}: {coef}\")\n",
    "\n",
    "    print(f\"\\nMSE: {mse}\")\n",
    "    print(f\"R Square: {r2}\")\n",
    "\n",
    "\n",
    "\n",
    "generic_LR('X.csv', 'y.csv')\n"
   ]
  }
 ],
 "metadata": {
  "kernelspec": {
   "display_name": "base",
   "language": "python",
   "name": "python3"
  },
  "language_info": {
   "codemirror_mode": {
    "name": "ipython",
    "version": 3
   },
   "file_extension": ".py",
   "mimetype": "text/x-python",
   "name": "python",
   "nbconvert_exporter": "python",
   "pygments_lexer": "ipython3",
   "version": "3.12.7"
  }
 },
 "nbformat": 4,
 "nbformat_minor": 5
}
